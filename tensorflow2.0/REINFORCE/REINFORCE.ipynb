{
 "cells": [
  {
   "cell_type": "code",
   "execution_count": 1,
   "metadata": {
    "ExecuteTime": {
     "end_time": "2020-10-15T14:25:59.954441Z",
     "start_time": "2020-10-15T14:25:55.586171Z"
    }
   },
   "outputs": [],
   "source": [
    "import numpy as np\n",
    "import pandas as pd\n",
    "import random\n",
    "import matplotlib.pyplot as plt\n",
    "from timeit import default_timer as timer\n",
    "from datetime import timedelta\n",
    "from itertools import count\n",
    "import os\n",
    "import sys\n",
    "import pickle\n",
    "from timeit import default_timer as timer\n",
    "from datetime import timedelta\n",
    "from IPython.display import clear_output\n",
    "\n",
    "import gym\n",
    "\n",
    "import tensorflow as tf\n",
    "from tensorflow import keras\n",
    "from tensorflow.keras import layers, Sequential, optimizers\n",
    "\n",
    "import tensorflow_probability as tfp\n",
    "\n",
    "os.environ['TF_CPP_MIN_LOG_LEVEL'] = '2'\n",
    "# tf.config.list_physical_devices(device_type='GPU')"
   ]
  },
  {
   "cell_type": "code",
   "execution_count": 2,
   "metadata": {
    "ExecuteTime": {
     "end_time": "2020-10-15T14:25:59.961093Z",
     "start_time": "2020-10-15T14:25:59.956714Z"
    }
   },
   "outputs": [],
   "source": [
    "seed = 1\n",
    "random.seed(seed)\n",
    "np.random.seed(seed)\n",
    "os.environ['PYTHONHASHSEED'] = str(seed) # 为了禁止hash随机化，使得实验可复现。\n",
    "\n",
    "tf.random.set_seed(seed)\n",
    "# tensorflow 如何设置在GPU上能够复现结果还不太清楚怎么弄"
   ]
  },
  {
   "cell_type": "code",
   "execution_count": 3,
   "metadata": {
    "ExecuteTime": {
     "end_time": "2020-10-15T14:25:59.967684Z",
     "start_time": "2020-10-15T14:25:59.963785Z"
    }
   },
   "outputs": [],
   "source": [
    "# hyperparameter\n",
    "training_env_seed = 123\n",
    "lr = 1e-4\n",
    "gamma = 0.99"
   ]
  },
  {
   "cell_type": "markdown",
   "metadata": {},
   "source": [
    "# Policy"
   ]
  },
  {
   "cell_type": "code",
   "execution_count": 4,
   "metadata": {
    "ExecuteTime": {
     "end_time": "2020-10-15T14:25:59.978061Z",
     "start_time": "2020-10-15T14:25:59.969884Z"
    }
   },
   "outputs": [],
   "source": [
    "class Policy(keras.Model):\n",
    "    def __init__(self, action_dim):\n",
    "        super(Policy, self).__init__()\n",
    "        \n",
    "        self.action_dim = action_dim\n",
    "        \n",
    "        self.affine1 = layers.Dense(128)\n",
    "        self.dropout = layers.Dropout(rate=0.6)\n",
    "        self.affine2 = layers.Dense(self.action_dim)\n",
    "        \n",
    "    def call(self, obs, training=None):\n",
    "        x = tf.convert_to_tensor(obs, dtype=tf.float32)\n",
    "        x = self.affine1(x)\n",
    "        x = self.dropout(x)\n",
    "        x = tf.nn.relu(x)\n",
    "        x = tf.nn.softmax(self.affine2(x))\n",
    "        return x"
   ]
  },
  {
   "cell_type": "markdown",
   "metadata": {},
   "source": [
    "# Agent"
   ]
  },
  {
   "cell_type": "code",
   "execution_count": 5,
   "metadata": {
    "ExecuteTime": {
     "end_time": "2020-10-15T14:26:00.000311Z",
     "start_time": "2020-10-15T14:25:59.980426Z"
    }
   },
   "outputs": [],
   "source": [
    "class Agent(object):\n",
    "    def __init__(self, env_name, policy=Policy):\n",
    "        \n",
    "        self.env = gym.make(env_name)\n",
    "        \n",
    "        self.action_dim = self.env.action_space.n\n",
    "        \n",
    "        self.policy = policy(self.action_dim)\n",
    "        \n",
    "        self.optimizer = optimizers.Adam(learning_rate=lr)\n",
    "        self.gamma = gamma\n",
    "        \n",
    "    \n",
    "    def get_action(self, obs, training=None):\n",
    "        prob = self.policy(np.expand_dims(obs, 0), training=training)\n",
    "        m = tfp.distributions.Categorical(probs=prob)\n",
    "        action = m.sample()\n",
    "        return int(action.numpy()[0])\n",
    "    \n",
    "    \n",
    "    def train(self, obses, rewards, actions):\n",
    "        R = 0\n",
    "        discounted_returns = []\n",
    "        for r in rewards[::-1]:\n",
    "            R = self.gamma * R + r\n",
    "            discounted_returns.insert(0, R)\n",
    "        \n",
    "        for obs, reward_to_go, action in zip(obses, discounted_returns, actions):\n",
    "            with tf.GradientTape() as tape:\n",
    "                p = self.policy(np.expand_dims(obs, 0))\n",
    "                loss = self.compute_loss(p, reward_to_go, action)\n",
    "            grads = tape.gradient(loss, self.policy.trainable_variables)\n",
    "            self.optimizer.apply_gradients(zip(grads, self.policy.trainable_variables))\n",
    "            \n",
    "                                           \n",
    "    def compute_loss(self, prob, reward_to_go, action):\n",
    "        m = tfp.distributions.Categorical(prob)\n",
    "        log_prob = m.log_prob(action)\n",
    "        loss = reward_to_go * -log_prob\n",
    "        return loss\n",
    "    \n",
    "    \n",
    "    def eval_(self, env, n_trajs=5):\n",
    "        returns = []\n",
    "        for i in range(n_trajs):\n",
    "            ep_return = 0\n",
    "            obs = env.reset()\n",
    "            for step in range(10000):\n",
    "                action = self.get_action(obs, training=False)\n",
    "                obs, reward, done, _ =env.step(action)\n",
    "                ep_return += reward\n",
    "                \n",
    "                if done:\n",
    "                    returns.append(ep_return)\n",
    "                    break \n",
    "        return np.array(returns).mean()\n",
    "    \n",
    "    \n",
    "    def render(self, env):\n",
    "        obs = env.reset()\n",
    "        for _ in range(10000):\n",
    "            env.render()\n",
    "            action = self.get_action(obs, training=False)\n",
    "            obs, reward, done, _ = env.step(action)\n",
    "            if done:\n",
    "                break\n",
    "        \n",
    "        \n",
    "    def save(self, step):\n",
    "        self.policy.save_weights('./reinforce_{}.ckpt'.format(step))\n",
    "        \n",
    "    def load(self, path):\n",
    "        if os.path.isfile(path):\n",
    "            self.policy.load_weights(path)            \n",
    "        else:\n",
    "            print('No \"{}\" exits for loading'.format(path))"
   ]
  },
  {
   "cell_type": "markdown",
   "metadata": {},
   "source": [
    "## tensorflow和pytorch在写法上会有不同，如果按照pytorch相同的写法，会导致在计算梯度：tape.gradient(loss, self.policy.trainable_variables)时获取不到相应的梯度"
   ]
  },
  {
   "cell_type": "markdown",
   "metadata": {},
   "source": [
    "# Trainging Loop"
   ]
  },
  {
   "cell_type": "code",
   "execution_count": 6,
   "metadata": {
    "ExecuteTime": {
     "end_time": "2020-10-15T15:50:38.439637Z",
     "start_time": "2020-10-15T14:26:00.002265Z"
    },
    "scrolled": true
   },
   "outputs": [
    {
     "data": {
      "image/png": "[encoded data removed]",
      "text/plain": [
       "<Figure size 432x288 with 1 Axes>"
      ]
     },
     "metadata": {
      "needs_background": "light"
     },
     "output_type": "display_data"
    },
    {
     "name": "stdout",
     "output_type": "stream",
     "text": [
      "total reward after 7811 episodes is 200.0\n",
      "total reward after 7812 episodes is 198.0\n",
      "total reward after 7813 episodes is 200.0\n",
      "Solved, the eval return is 195.03\n"
     ]
    }
   ],
   "source": [
    "env_name = 'CartPole-v0'\n",
    "env_eval = gym.make(env_name)\n",
    "agent_reinforce = Agent(env_name, Policy)\n",
    "\n",
    "start = timer()\n",
    "running_returns = []\n",
    "\n",
    "for episode in count(1):\n",
    "    total_reward = 0\n",
    "    obs = agent_reinforce.env.reset()\n",
    "    obses = []\n",
    "    actions = []\n",
    "    rewards = []\n",
    "    done = False\n",
    "    \n",
    "    while not done:\n",
    "        action = agent_reinforce.get_action(obs)\n",
    "        obses.append(obs)\n",
    "        actions.append(action)\n",
    "        obs, reward, done, _ = agent_reinforce.env.step(action)\n",
    "        rewards.append(reward)\n",
    "        total_reward += reward\n",
    "        \n",
    "        if done:\n",
    "            agent_reinforce.train(obses, rewards, actions)\n",
    "            running_returns.append(total_reward)\n",
    "            print('total reward after {} episodes is {}'.format(episode, total_reward))\n",
    "            \n",
    "    \n",
    "    if episode % 10 == 0:\n",
    "        clear_output(True)\n",
    "        plt.plot(pd.Series(running_returns).rolling(100, 20).mean())\n",
    "        plt.title('episide:{}, time:{}, returns'.format(episode, timedelta(seconds=int(timer()-start))))\n",
    "        plt.show()\n",
    "        \n",
    "    \n",
    "    if np.array(running_returns)[-20:].mean() > 195:\n",
    "        eval_return = agent_reinforce.eval_(env_eval, 100)\n",
    "        if eval_return > 195:\n",
    "            print('Solved, the eval return is {}'.format(eval_return))\n",
    "            break"
   ]
  },
  {
   "cell_type": "code",
   "execution_count": 7,
   "metadata": {
    "ExecuteTime": {
     "end_time": "2020-10-16T00:32:46.200165Z",
     "start_time": "2020-10-16T00:32:46.152671Z"
    }
   },
   "outputs": [],
   "source": [
    "agent_reinforce.policy.save_weights('./reinforce_cartpole.ckpt')"
   ]
  }
 ],
 "metadata": {
  "kernelspec": {
   "display_name": "Python 3",
   "language": "python",
   "name": "python3"
  },
  "language_info": {
   "codemirror_mode": {
    "name": "ipython",
    "version": 3
   },
   "file_extension": ".py",
   "mimetype": "text/x-python",
   "name": "python",
   "nbconvert_exporter": "python",
   "pygments_lexer": "ipython3",
   "version": "3.6.8"
  },
  "toc": {
   "base_numbering": 1,
   "nav_menu": {},
   "number_sections": true,
   "sideBar": true,
   "skip_h1_title": false,
   "title_cell": "Table of Contents",
   "title_sidebar": "Contents",
   "toc_cell": false,
   "toc_position": {
    "height": "calc(100% - 180px)",
    "left": "10px",
    "top": "150px",
    "width": "288px"
   },
   "toc_section_display": true,
   "toc_window_display": false
  }
 },
 "nbformat": 4,
 "nbformat_minor": 4
}
