{
 "cells": [
  {
   "cell_type": "code",
   "execution_count": 1,
   "metadata": {
    "ExecuteTime": {
     "end_time": "2020-10-07T02:46:35.392460Z",
     "start_time": "2020-10-07T02:46:34.403312Z"
    }
   },
   "outputs": [],
   "source": [
    "import os\n",
    "import gym\n",
    "import random\n",
    "import numpy as np\n",
    "import pandas as pd\n",
    "from itertools import count\n",
    "import matplotlib.pyplot as plt\n",
    "from timeit import default_timer as timer\n",
    "from datetime import timedelta\n",
    "from IPython.display import clear_output\n",
    "\n",
    "import torch\n",
    "import torch.nn as nn\n",
    "import torch.nn.functional as F\n",
    "import torch.optim as optim\n",
    "from torch.distributions import Categorical"
   ]
  },
  {
   "cell_type": "code",
   "execution_count": 2,
   "metadata": {
    "ExecuteTime": {
     "end_time": "2020-10-07T02:46:35.403276Z",
     "start_time": "2020-10-07T02:46:35.394945Z"
    }
   },
   "outputs": [],
   "source": [
    "seed = 1\n",
    "\n",
    "os.environ['PYTHONHASHSEED'] = str(seed) # 为了禁止hash随机化，使得实验可复现。\n",
    "\n",
    "random.seed(seed)\n",
    "np.random.seed(seed)\n",
    "\n",
    "# env.seed(seed)  这个等创建了环境之后再设置\n",
    "\n",
    "torch.manual_seed(seed)            # 为CPU设置随机种子\n",
    "torch.cuda.manual_seed(seed)       # 为当前GPU设置随机种子\n",
    "torch.cuda.manual_seed_all(seed)   # 为所有GPU设置随机种子"
   ]
  },
  {
   "cell_type": "code",
   "execution_count": 3,
   "metadata": {
    "ExecuteTime": {
     "end_time": "2020-10-07T02:46:35.410139Z",
     "start_time": "2020-10-07T02:46:35.406044Z"
    }
   },
   "outputs": [],
   "source": [
    "# hyparameter\n",
    "device = torch.device('cuda' if torch.cuda.is_available() else 'cpu')\n",
    "training_env_seed = 123\n",
    "lr = 1e-4   # 可以设成1e-3\n",
    "gamma = 0.99\n",
    "is_render = False"
   ]
  },
  {
   "cell_type": "markdown",
   "metadata": {},
   "source": [
    "# Policy"
   ]
  },
  {
   "cell_type": "code",
   "execution_count": 4,
   "metadata": {
    "ExecuteTime": {
     "end_time": "2020-10-07T02:46:35.421296Z",
     "start_time": "2020-10-07T02:46:35.412732Z"
    }
   },
   "outputs": [],
   "source": [
    "class Policy(nn.Module):\n",
    "    def __init__(self, input_shape, action_dim):\n",
    "        super(Policy, self).__init__()\n",
    "        \n",
    "        self.input_shape = input_shape\n",
    "        self.action_dim = action_dim\n",
    "        self.affine1 = nn.Linear(self.input_shape, 128)\n",
    "        self.dropout = nn.Dropout(p=0.6)\n",
    "        self.affine2 = nn.Linear(128, self.action_dim)\n",
    "        \n",
    "\n",
    "        \n",
    "    def forward(self, obs):   # obs must be a tensor\n",
    "        x = self.affine1(obs)\n",
    "        x = self.dropout(x)\n",
    "        x = F.relu(x)\n",
    "        action_logits = self.affine2(x)\n",
    "        actions = F.softmax(action_logits, dim=-1)\n",
    "        return actions"
   ]
  },
  {
   "cell_type": "markdown",
   "metadata": {},
   "source": [
    "# Agent"
   ]
  },
  {
   "cell_type": "code",
   "execution_count": 9,
   "metadata": {
    "ExecuteTime": {
     "end_time": "2020-10-07T02:53:44.629716Z",
     "start_time": "2020-10-07T02:53:44.605369Z"
    }
   },
   "outputs": [],
   "source": [
    "class REINFORCEAgent(object):\n",
    "    def __init__(self, env_name=None, policy=Policy, eval_mode=False):\n",
    "        self.env_name = env_name\n",
    "        self.env = gym.make(self.env_name)\n",
    "        self.env.seed(training_env_seed)\n",
    "        \n",
    "        self.obs_dim = self.env.observation_space.shape[0]\n",
    "        self.action_dim = self.env.action_space.n\n",
    "        \n",
    "        self.policy = policy(self.obs_dim, self.action_dim)\n",
    "        self.policy.to(device)\n",
    "        \n",
    "        self.optimizer = optim.Adam(self.policy.parameters(), lr=lr)\n",
    "        \n",
    "        \n",
    "        self.eval_mode = eval_mode\n",
    "        \n",
    "        if self.eval_mode:\n",
    "            self.policy.eval()\n",
    "        else:\n",
    "            self.policy.train()\n",
    "        \n",
    "        self.log_probs = []          # 用来记录每个时刻t的log(pi(a_t|s_t))\n",
    "        self.rewards = []            # 用来记录每个时刻t的reward, r_t\n",
    "        self.returns = []            # 用来记录每个时刻t的return, G_t\n",
    "        self.loss = []               # 用来记录每个时刻t的loss: G_t * log(pi(a_t|s_t))\n",
    "        \n",
    "        self.eps = np.finfo(np.float32).eps.item()     # 创建一个很小的浮点数，加在分母，防止0的出现，直接写1e-10也行\n",
    "        \n",
    "        \n",
    "    def get_action(self, obs):  # obs is not a tensor\n",
    "        obs = torch.tensor(obs, dtype=torch.float32, device=device).unsqueeze(dim=0)   # [1, obs_dim]\n",
    "        probs = self.policy(obs)   # 产生策略函数，是一个关于action的概率\n",
    "        m = Categorical(probs)     # 生成一个Categorical分布，在CartPole里是二项分布\n",
    "        action = m.sample()        # 从分布里采样，采出的是索引\n",
    "        self.log_probs.append(m.log_prob(action))  # 把对应的log概率记录下来, 因为后面导数是对logπ（θ）来求的\n",
    "        \n",
    "        return action.item()\n",
    "        \n",
    "    \n",
    "    def train(self):\n",
    "        R = 0\n",
    "        # policy gradient update\n",
    "        for r in self.rewards[::-1]:       # 倒序\n",
    "            R = r + gamma * R              # 计算t到T的reward折现和\n",
    "            self.returns.insert(0, R)      # 在最前面插入\n",
    "        \n",
    "        returns = torch.tensor(self.returns)\n",
    "        returns = (returns - returns.mean()) / (returns.std() + self.eps)   # 把returns做一个标准化，这样对于action的矫正会更有效果一些，因为一条成功的轨迹里并不一定是所有action都是好的\n",
    "\n",
    "        for log_prob, R in zip(self.log_probs, returns):\n",
    "            self.loss.append(-log_prob * R)\n",
    "            \n",
    "        self.optimizer.zero_grad()\n",
    "        loss = torch.cat(self.loss).sum()  # self.loss 是一个列表，里面元素是tensor，然后cat一下, 为了能反向传播梯度？？？\n",
    "        '''\n",
    "        这个loss的计算有些trick，我一开始是这么写的\n",
    "        returns = self.returns\n",
    "        ...\n",
    "        loss = torch.tensor(self.loss, requires_grad=True).sum()\n",
    "        结果return就训不上去，我还没搞明白原因 \n",
    "        '''\n",
    "        loss.backward()\n",
    "        self.optimizer.step()\n",
    "        \n",
    "        del self.rewards[:]                        # 把列表清空，但是列表还在，[]\n",
    "        del self.returns[:]\n",
    "        del self.log_probs[:]\n",
    "        del self.loss[:]\n",
    "        \n",
    "    \n",
    "    def eval_(self, env, n_trajs=5):\n",
    "        self.policy.eval()\n",
    "        returns = []\n",
    "        for i in range(n_trajs):\n",
    "            ep_return = 0\n",
    "            obs = env.reset()\n",
    "            for step in range(10000):\n",
    "                action = self.get_action(obs)\n",
    "                obs, reward, done, _ =env.step(action)\n",
    "                ep_return += reward\n",
    "                \n",
    "                if done:\n",
    "                    returns.append(ep_return)\n",
    "                    break \n",
    "        self.policy.train()\n",
    "        return np.array(returns).mean()\n",
    "    \n",
    "    \n",
    "    def render(self, env):\n",
    "        self.policy.eval()\n",
    "        obs = env.reset()\n",
    "        for _ in range(10000):\n",
    "            env.render()\n",
    "            action = self.get_action(obs)\n",
    "            obs, reward, done, _ = env.step(action)\n",
    "            if done:\n",
    "                break\n",
    "        self.policy.train()\n",
    "        \n",
    "        \n",
    "    def save(self, step):\n",
    "        torch.save(self.policy.state_dict(), './reinforce_{}.pt'.format(step))\n",
    "        \n",
    "    def load(self, path):\n",
    "        if os.path.isfile(path):\n",
    "            self.policy.load_state_dict(torch.load(path))\n",
    "            # self.policy.load_state_dict(torch.load(path), map_location=lambda storage, loc: storage))  # 在gpu上训练，load到cpu上的时候可能会用到\n",
    "        else:\n",
    "            print('No \"{}\" exits for loading'.format(path))"
   ]
  },
  {
   "cell_type": "markdown",
   "metadata": {},
   "source": [
    "# Training Loop"
   ]
  },
  {
   "cell_type": "code",
   "execution_count": 13,
   "metadata": {
    "ExecuteTime": {
     "end_time": "2020-10-07T03:17:58.767014Z",
     "start_time": "2020-10-07T03:00:26.322532Z"
    }
   },
   "outputs": [
    {
     "data": {
      "image/png": "[encoded data removed]",
      "text/plain": [
       "<Figure size 432x288 with 1 Axes>"
      ]
     },
     "metadata": {
      "needs_background": "light"
     },
     "output_type": "display_data"
    },
    {
     "name": "stdout",
     "output_type": "stream",
     "text": [
      "Solved! eval return is now 195.61!\n"
     ]
    }
   ],
   "source": [
    "name = 'CartPole-v0'\n",
    "env_eval = gym.make(name)\n",
    "env_eval.seed(seed)\n",
    "\n",
    "\n",
    "start = timer()\n",
    "running_returns = []\n",
    "agent_reinforce = REINFORCEAgent(env_name=name, policy=Policy)\n",
    "\n",
    "for episode in count(1): # 一直加1的while, 表示一条episode\n",
    "    # print('episode%d'%episode)\n",
    "    obs, ep_return = agent_reinforce.env.reset(), 0\n",
    "    for step in range(10000):\n",
    "        action = agent_reinforce.get_action(obs)\n",
    "        obs, reward, done, _ = agent_reinforce.env.step(action)\n",
    "        agent_reinforce.rewards.append(reward)\n",
    "        ep_return += reward\n",
    "        if done:\n",
    "            running_returns.append(ep_return)\n",
    "            break\n",
    "    \n",
    "    agent_reinforce.train()\n",
    "    \n",
    "    \n",
    "    if episode % 10 == 0:\n",
    "        clear_output(True)\n",
    "        plt.plot(pd.Series(running_returns).rolling(100, 20).mean())\n",
    "        plt.title('episide:{}, time:{}, returns'.format(episode, timedelta(seconds=int(timer()-start))))\n",
    "        plt.show()\n",
    "    if np.array(running_returns)[-10:].mean() > 195:\n",
    "        eval_return = agent_reinforce.eval_(env_eval, 100)\n",
    "        if eval_return > 195:\n",
    "            print(\"Solved! eval return is now {}!\".format(eval_return))\n",
    "            break "
   ]
  },
  {
   "cell_type": "code",
   "execution_count": 20,
   "metadata": {
    "ExecuteTime": {
     "end_time": "2020-10-07T03:28:47.117571Z",
     "start_time": "2020-10-07T03:28:41.770120Z"
    }
   },
   "outputs": [
    {
     "name": "stdout",
     "output_type": "stream",
     "text": [
      "191.71\n"
     ]
    }
   ],
   "source": [
    "eval_return = agent_reinforce.eval_(env_eval, 100)\n",
    "print(eval_return)"
   ]
  },
  {
   "cell_type": "code",
   "execution_count": 16,
   "metadata": {
    "ExecuteTime": {
     "end_time": "2020-10-07T03:26:55.667189Z",
     "start_time": "2020-10-07T03:26:51.454900Z"
    }
   },
   "outputs": [],
   "source": [
    "agent_reinforce.render(env_eval)"
   ]
  },
  {
   "cell_type": "code",
   "execution_count": 17,
   "metadata": {
    "ExecuteTime": {
     "end_time": "2020-10-07T03:27:47.319676Z",
     "start_time": "2020-10-07T03:27:47.314732Z"
    }
   },
   "outputs": [],
   "source": [
    "torch.save(agent_reinforce.policy.state_dict(), './reinforce_cartpole.pt')"
   ]
  }
 ],
 "metadata": {
  "kernelspec": {
   "display_name": "Python 3",
   "language": "python",
   "name": "python3"
  },
  "language_info": {
   "codemirror_mode": {
    "name": "ipython",
    "version": 3
   },
   "file_extension": ".py",
   "mimetype": "text/x-python",
   "name": "python",
   "nbconvert_exporter": "python",
   "pygments_lexer": "ipython3",
   "version": "3.6.8"
  },
  "toc": {
   "base_numbering": 1,
   "nav_menu": {},
   "number_sections": true,
   "sideBar": true,
   "skip_h1_title": false,
   "title_cell": "Table of Contents",
   "title_sidebar": "Contents",
   "toc_cell": false,
   "toc_position": {},
   "toc_section_display": true,
   "toc_window_display": false
  }
 },
 "nbformat": 4,
 "nbformat_minor": 4
}
