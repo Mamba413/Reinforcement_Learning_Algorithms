{
 "cells": [
  {
   "cell_type": "code",
   "execution_count": 1,
   "metadata": {
    "ExecuteTime": {
     "end_time": "2020-10-07T09:27:09.032445Z",
     "start_time": "2020-10-07T09:27:08.046798Z"
    }
   },
   "outputs": [],
   "source": [
    "import os\n",
    "import sys\n",
    "import gym\n",
    "import random\n",
    "import numpy as np\n",
    "import pandas as pd\n",
    "from itertools import count\n",
    "import matplotlib.pyplot as plt\n",
    "from timeit import default_timer as timer\n",
    "from datetime import timedelta\n",
    "from IPython.display import clear_output\n",
    "\n",
    "import torch\n",
    "import torch.nn as nn\n",
    "import torch.nn.functional as F\n",
    "import torch.optim as optim\n",
    "from torch.distributions import Categorical"
   ]
  },
  {
   "cell_type": "code",
   "execution_count": 2,
   "metadata": {
    "ExecuteTime": {
     "end_time": "2020-10-07T09:27:09.042676Z",
     "start_time": "2020-10-07T09:27:09.035108Z"
    }
   },
   "outputs": [],
   "source": [
    "seed = 1\n",
    "\n",
    "os.environ['PYTHONHASHSEED'] = str(seed) # 为了禁止hash随机化，使得实验可复现。\n",
    "\n",
    "random.seed(seed)\n",
    "np.random.seed(seed)\n",
    "\n",
    "# env.seed(seed)  这个等创建了环境之后再设置\n",
    "\n",
    "torch.manual_seed(seed)            # 为CPU设置随机种子\n",
    "torch.cuda.manual_seed(seed)       # 为当前GPU设置随机种子\n",
    "torch.cuda.manual_seed_all(seed)   # 为所有GPU设置随机种子"
   ]
  },
  {
   "cell_type": "code",
   "execution_count": 3,
   "metadata": {
    "ExecuteTime": {
     "end_time": "2020-10-07T09:27:09.050824Z",
     "start_time": "2020-10-07T09:27:09.045364Z"
    }
   },
   "outputs": [],
   "source": [
    "path = os.path.abspath('..')\n",
    "if path not in sys.path:\n",
    "    sys.path.append(path)"
   ]
  },
  {
   "cell_type": "code",
   "execution_count": 4,
   "metadata": {
    "ExecuteTime": {
     "end_time": "2020-10-07T09:27:09.073273Z",
     "start_time": "2020-10-07T09:27:09.054915Z"
    }
   },
   "outputs": [],
   "source": [
    "from configs import Config\n",
    "from networks_pytorch import A2CCategoricalNetwork\n",
    "from agents_pytorch import A2CAgent"
   ]
  },
  {
   "cell_type": "markdown",
   "metadata": {},
   "source": [
    "# Training Loop"
   ]
  },
  {
   "cell_type": "code",
   "execution_count": 7,
   "metadata": {
    "ExecuteTime": {
     "end_time": "2020-10-07T11:39:42.823360Z",
     "start_time": "2020-10-07T10:04:23.473473Z"
    },
    "scrolled": false
   },
   "outputs": [
    {
     "data": {
      "image/png": "[encoded data removed]",
      "text/plain": [
       "<Figure size 432x288 with 1 Axes>"
      ]
     },
     "metadata": {
      "needs_background": "light"
     },
     "output_type": "display_data"
    },
    {
     "name": "stdout",
     "output_type": "stream",
     "text": [
      "Solved! eval return is now 195.54!\n"
     ]
    }
   ],
   "source": [
    "name = 'CartPole-v0'\n",
    "env_eval = gym.make(name)\n",
    "env_eval.seed(seed)\n",
    "\n",
    "config = Config()\n",
    "config.lr = 1e-3\n",
    "\n",
    "start = timer()\n",
    "running_returns = []\n",
    "agent_a2c = A2CAgent(env_name=name, policy=A2CCategoricalNetwork, config=config)\n",
    "\n",
    "for episode in count(1): # 一直加1的while, 表示一条episode\n",
    "    # print('episode%d'%episode)\n",
    "    obs, ep_return = agent_a2c.env.reset(), 0\n",
    "    agent_a2c.rewards.append([])                # record rewards separately for each episode\n",
    "    agent_a2c.log_probs_values.append([])\n",
    "    \n",
    "    for step in range(10000):\n",
    "        action = agent_a2c.get_action(obs)\n",
    "        obs, reward, done, _ = agent_a2c.env.step(action)\n",
    "        agent_a2c.rewards[-1].append(reward)\n",
    "        ep_return += reward\n",
    "        if done:\n",
    "            running_returns.append(ep_return)\n",
    "            break\n",
    "            \n",
    "    \n",
    "    if episode % 20 == 0:          # 每20条轨迹进行一次梯度更新，当然也可以设置成1，就相当与mini-batch和stochastic gradient descent的区别\n",
    "        agent_a2c.train()\n",
    "    \n",
    "    \n",
    "    if episode % 20 == 0:\n",
    "        clear_output(True)\n",
    "        plt.plot(pd.Series(running_returns).rolling(100, 20).mean())\n",
    "        plt.title('episide:{}, time:{}, returns'.format(episode, timedelta(seconds=int(timer()-start))))\n",
    "        plt.show()\n",
    "    if np.array(running_returns)[-20:].mean() > 195:\n",
    "        eval_return = agent_a2c.eval_(env_eval, 100)\n",
    "        if eval_return > 195:\n",
    "            print(\"Solved! eval return is now {}!\".format(eval_return))\n",
    "            break "
   ]
  },
  {
   "cell_type": "code",
   "execution_count": 8,
   "metadata": {
    "ExecuteTime": {
     "end_time": "2020-10-07T11:43:04.281006Z",
     "start_time": "2020-10-07T11:43:00.671795Z"
    }
   },
   "outputs": [
    {
     "name": "stdout",
     "output_type": "stream",
     "text": [
      "194.99\n"
     ]
    }
   ],
   "source": [
    "eval_return = agent_a2c.eval_(env_eval, 100)\n",
    "print(eval_return)"
   ]
  },
  {
   "cell_type": "code",
   "execution_count": 9,
   "metadata": {
    "ExecuteTime": {
     "end_time": "2020-10-07T11:43:07.604319Z",
     "start_time": "2020-10-07T11:43:07.598716Z"
    }
   },
   "outputs": [],
   "source": [
    "torch.save(agent_a2c.policy.state_dict(), './A2C_cartpole.pt')"
   ]
  },
  {
   "cell_type": "code",
   "execution_count": 10,
   "metadata": {
    "ExecuteTime": {
     "end_time": "2020-10-07T11:43:13.605792Z",
     "start_time": "2020-10-07T11:43:09.798817Z"
    }
   },
   "outputs": [],
   "source": [
    "agent_a2c.render(env_eval)"
   ]
  }
 ],
 "metadata": {
  "kernelspec": {
   "display_name": "Python 3",
   "language": "python",
   "name": "python3"
  },
  "language_info": {
   "codemirror_mode": {
    "name": "ipython",
    "version": 3
   },
   "file_extension": ".py",
   "mimetype": "text/x-python",
   "name": "python",
   "nbconvert_exporter": "python",
   "pygments_lexer": "ipython3",
   "version": "3.6.8"
  },
  "toc": {
   "base_numbering": 1,
   "nav_menu": {},
   "number_sections": true,
   "sideBar": true,
   "skip_h1_title": false,
   "title_cell": "Table of Contents",
   "title_sidebar": "Contents",
   "toc_cell": false,
   "toc_position": {},
   "toc_section_display": true,
   "toc_window_display": false
  }
 },
 "nbformat": 4,
 "nbformat_minor": 4
}
