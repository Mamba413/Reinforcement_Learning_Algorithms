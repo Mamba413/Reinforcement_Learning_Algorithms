{
 "cells": [
  {
   "cell_type": "code",
   "execution_count": 1,
   "metadata": {
    "ExecuteTime": {
     "end_time": "2020-10-07T05:37:52.924215Z",
     "start_time": "2020-10-07T05:37:50.962721Z"
    }
   },
   "outputs": [],
   "source": [
    "import os\n",
    "import sys\n",
    "import gym\n",
    "import random\n",
    "import numpy as np\n",
    "import pandas as pd\n",
    "from itertools import count\n",
    "import matplotlib.pyplot as plt\n",
    "from timeit import default_timer as timer\n",
    "from datetime import timedelta\n",
    "from IPython.display import clear_output\n",
    "\n",
    "import torch\n",
    "import torch.nn as nn\n",
    "import torch.nn.functional as F\n",
    "import torch.optim as optim\n",
    "from torch.distributions import Categorical"
   ]
  },
  {
   "cell_type": "code",
   "execution_count": 2,
   "metadata": {
    "ExecuteTime": {
     "end_time": "2020-10-07T05:37:52.949692Z",
     "start_time": "2020-10-07T05:37:52.935149Z"
    }
   },
   "outputs": [],
   "source": [
    "seed = 1\n",
    "\n",
    "os.environ['PYTHONHASHSEED'] = str(seed) # 为了禁止hash随机化，使得实验可复现。\n",
    "\n",
    "random.seed(seed)\n",
    "np.random.seed(seed)\n",
    "\n",
    "# env.seed(seed)  这个等创建了环境之后再设置\n",
    "\n",
    "torch.manual_seed(seed)            # 为CPU设置随机种子\n",
    "torch.cuda.manual_seed(seed)       # 为当前GPU设置随机种子\n",
    "torch.cuda.manual_seed_all(seed)   # 为所有GPU设置随机种子"
   ]
  },
  {
   "cell_type": "code",
   "execution_count": 3,
   "metadata": {
    "ExecuteTime": {
     "end_time": "2020-10-07T05:37:52.962495Z",
     "start_time": "2020-10-07T05:37:52.954963Z"
    }
   },
   "outputs": [],
   "source": [
    "path = os.path.abspath('..')\n",
    "if path not in sys.path:\n",
    "    sys.path.append(path)"
   ]
  },
  {
   "cell_type": "code",
   "execution_count": 4,
   "metadata": {
    "ExecuteTime": {
     "end_time": "2020-10-07T05:37:52.997831Z",
     "start_time": "2020-10-07T05:37:52.964717Z"
    }
   },
   "outputs": [],
   "source": [
    "from configs import Config\n",
    "from networks_pytorch import PGbaselineCategoricalNetwork\n",
    "from agents_pytorch import PGbaselineAgent"
   ]
  },
  {
   "cell_type": "markdown",
   "metadata": {},
   "source": [
    "# Training Loop"
   ]
  },
  {
   "cell_type": "code",
   "execution_count": 5,
   "metadata": {
    "ExecuteTime": {
     "end_time": "2020-10-07T05:41:54.737069Z",
     "start_time": "2020-10-07T05:37:52.999831Z"
    }
   },
   "outputs": [
    {
     "data": {
      "image/png": "[encoded data removed]",
      "text/plain": [
       "<Figure size 432x288 with 1 Axes>"
      ]
     },
     "metadata": {
      "needs_background": "light"
     },
     "output_type": "display_data"
    },
    {
     "name": "stdout",
     "output_type": "stream",
     "text": [
      "Solved! eval return is now 195.25!\n"
     ]
    }
   ],
   "source": [
    "name = 'CartPole-v0'\n",
    "env_eval = gym.make(name)\n",
    "env_eval.seed(seed)\n",
    "\n",
    "config = Config()\n",
    "config.lr = 1e-3\n",
    "\n",
    "start = timer()\n",
    "running_returns = []\n",
    "agent_pgbaseline = PGbaselineAgent(env_name=name, policy=PGbaselineCategoricalNetwork, config=config)\n",
    "\n",
    "for episode in count(1): # 一直加1的while, 表示一条episode\n",
    "    # print('episode%d'%episode)\n",
    "    obs, ep_return = agent_pgbaseline.env.reset(), 0\n",
    "    for step in range(10000):\n",
    "        action = agent_pgbaseline.get_action(obs)\n",
    "        obs, reward, done, _ = agent_pgbaseline.env.step(action)\n",
    "        agent_pgbaseline.rewards.append(reward)\n",
    "        ep_return += reward\n",
    "        if done:\n",
    "            running_returns.append(ep_return)\n",
    "            break\n",
    "            \n",
    "    agent_pgbaseline.compute_return()\n",
    "    \n",
    "    if episode % 1 == 0:          # 每1条轨迹进行一次梯度更新，当然也可以设置一个batch_size，就相当与stochastic和mini-batch gradient descent的区别\n",
    "        agent_pgbaseline.train()\n",
    "    \n",
    "    \n",
    "    if episode % 10 == 0:\n",
    "        clear_output(True)\n",
    "        plt.plot(pd.Series(running_returns).rolling(100, 20).mean())\n",
    "        plt.title('episide:{}, time:{}, returns'.format(episode, timedelta(seconds=int(timer()-start))))\n",
    "        plt.show()\n",
    "    if np.array(running_returns)[-20:].mean() > 195:\n",
    "        eval_return = agent_pgbaseline.eval_(env_eval, 100)\n",
    "        if eval_return > 195:\n",
    "            print(\"Solved! eval return is now {}!\".format(eval_return))\n",
    "            break "
   ]
  },
  {
   "cell_type": "code",
   "execution_count": 6,
   "metadata": {
    "ExecuteTime": {
     "end_time": "2020-10-07T05:42:17.805176Z",
     "start_time": "2020-10-07T05:42:11.300110Z"
    }
   },
   "outputs": [
    {
     "name": "stdout",
     "output_type": "stream",
     "text": [
      "193.48\n"
     ]
    }
   ],
   "source": [
    "eval_return = agent_pgbaseline.eval_(env_eval, 100)\n",
    "print(eval_return)"
   ]
  },
  {
   "cell_type": "code",
   "execution_count": 8,
   "metadata": {
    "ExecuteTime": {
     "end_time": "2020-10-07T05:43:16.486334Z",
     "start_time": "2020-10-07T05:43:16.480765Z"
    }
   },
   "outputs": [],
   "source": [
    "torch.save(agent_pgbaseline.policy.state_dict(), './PGbaseline_cartpole.pt')"
   ]
  },
  {
   "cell_type": "code",
   "execution_count": 10,
   "metadata": {
    "ExecuteTime": {
     "end_time": "2020-10-07T05:43:40.247725Z",
     "start_time": "2020-10-07T05:43:36.198851Z"
    }
   },
   "outputs": [],
   "source": [
    "torch.save(agent_pgbaseline.policy.state_dict(), './PGbaseline_cartpole.pt')"
   ]
  }
 ],
 "metadata": {
  "kernelspec": {
   "display_name": "Python 3",
   "language": "python",
   "name": "python3"
  },
  "language_info": {
   "codemirror_mode": {
    "name": "ipython",
    "version": 3
   },
   "file_extension": ".py",
   "mimetype": "text/x-python",
   "name": "python",
   "nbconvert_exporter": "python",
   "pygments_lexer": "ipython3",
   "version": "3.6.8"
  },
  "toc": {
   "base_numbering": 1,
   "nav_menu": {},
   "number_sections": true,
   "sideBar": true,
   "skip_h1_title": false,
   "title_cell": "Table of Contents",
   "title_sidebar": "Contents",
   "toc_cell": false,
   "toc_position": {},
   "toc_section_display": true,
   "toc_window_display": false
  }
 },
 "nbformat": 4,
 "nbformat_minor": 4
}
